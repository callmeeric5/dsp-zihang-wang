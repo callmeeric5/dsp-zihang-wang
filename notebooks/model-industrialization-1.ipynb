{
 "cells": [
  {
   "cell_type": "markdown",
   "id": "c5528280-2a75-48e4-a69d-584892ace71f",
   "metadata": {
    "editable": true,
    "slideshow": {
     "slide_type": ""
    },
    "tags": []
   },
   "source": [
    "# House Price Prediction \n",
    "\n",
    "Writer: Zihang WANG_AIS\n",
    "\n",
    "Date: 06/03/2024\n",
    "\n",
    "Envrionment: ~/requirements.txt"
   ]
  },
  {
   "cell_type": "markdown",
   "id": "6dac24c7-f5bd-48b3-b1a0-ba51612658a5",
   "metadata": {},
   "source": [
    "## Abstact\n",
    "\n",
    "This project is for DSP(2024 Spring) only, more information about the dataset and background [here](https://www.kaggle.com/c/house-prices-advanced-regression-techniques/data).  It aims to create a model to predict the saleprices of the houses by following these steps: \n",
    "\n",
    "Data setup(load, train and test sets split, etc)\n",
    "\n",
    "Feature processing: process, scale and encode the different features\n",
    "\n",
    "Model training\n",
    "\n",
    "Model evaluation"
   ]
  },
  {
   "cell_type": "code",
   "outputs": [],
   "source": [],
   "metadata": {
    "collapsed": false
   },
   "id": "bffe07b26414b1b5"
  },
  {
   "cell_type": "code",
   "execution_count": 1,
   "id": "a81f6df5-ba47-4f7c-879a-aa7bd114d293",
   "metadata": {},
   "outputs": [],
   "source": [
    "import pandas as pd\n",
    "import matplotlib.pyplot as plt\n",
    "import seaborn as sns\n",
    "import numpy as np\n",
    "from scipy.stats import norm\n",
    "from sklearn.preprocessing import StandardScaler\n",
    "from scipy import stats\n",
    "import warnings\n",
    "import joblib\n",
    "\n",
    "warnings.filterwarnings(\"ignore\")\n",
    "%load_ext lab_black"
   ]
  },
  {
   "cell_type": "markdown",
   "id": "35373b60-7000-4c54-8c29-94ed52fd14fb",
   "metadata": {},
   "source": [
    "## Model Training"
   ]
  },
  {
   "cell_type": "markdown",
   "id": "88030a02-f237-43c2-a34d-f7fc27db1bef",
   "metadata": {},
   "source": [
    "### Import Data"
   ]
  },
  {
   "cell_type": "code",
   "execution_count": 2,
   "id": "fd18e664-4c7b-4271-ad75-6cb210a86fa5",
   "metadata": {},
   "outputs": [],
   "source": [
    "data_train_raw = pd.read_csv(\"data/housing_price_train.csv\", index_col=\"Id\")\n",
    "data_train = data_train_raw.copy()"
   ]
  },
  {
   "cell_type": "code",
   "execution_count": 3,
   "id": "b3aab7d8-0a31-41a0-a481-20a01d69db47",
   "metadata": {},
   "outputs": [
    {
     "data": {
      "text/plain": [
       "(1460, 80)"
      ]
     },
     "execution_count": 3,
     "metadata": {},
     "output_type": "execute_result"
    }
   ],
   "source": [
    "# Train Checking\n",
    "data_train.shape"
   ]
  },
  {
   "cell_type": "code",
   "execution_count": 4,
   "id": "2849926c-1a73-4611-a234-678f95245119",
   "metadata": {},
   "outputs": [
    {
     "data": {
      "text/html": [
       "<div>\n",
       "<style scoped>\n",
       "    .dataframe tbody tr th:only-of-type {\n",
       "        vertical-align: middle;\n",
       "    }\n",
       "\n",
       "    .dataframe tbody tr th {\n",
       "        vertical-align: top;\n",
       "    }\n",
       "\n",
       "    .dataframe thead th {\n",
       "        text-align: right;\n",
       "    }\n",
       "</style>\n",
       "<table border=\"1\" class=\"dataframe\">\n",
       "  <thead>\n",
       "    <tr style=\"text-align: right;\">\n",
       "      <th></th>\n",
       "      <th>MSSubClass</th>\n",
       "      <th>MSZoning</th>\n",
       "      <th>LotFrontage</th>\n",
       "      <th>LotArea</th>\n",
       "      <th>Street</th>\n",
       "      <th>Alley</th>\n",
       "      <th>LotShape</th>\n",
       "      <th>LandContour</th>\n",
       "      <th>Utilities</th>\n",
       "      <th>LotConfig</th>\n",
       "      <th>...</th>\n",
       "      <th>PoolArea</th>\n",
       "      <th>PoolQC</th>\n",
       "      <th>Fence</th>\n",
       "      <th>MiscFeature</th>\n",
       "      <th>MiscVal</th>\n",
       "      <th>MoSold</th>\n",
       "      <th>YrSold</th>\n",
       "      <th>SaleType</th>\n",
       "      <th>SaleCondition</th>\n",
       "      <th>SalePrice</th>\n",
       "    </tr>\n",
       "    <tr>\n",
       "      <th>Id</th>\n",
       "      <th></th>\n",
       "      <th></th>\n",
       "      <th></th>\n",
       "      <th></th>\n",
       "      <th></th>\n",
       "      <th></th>\n",
       "      <th></th>\n",
       "      <th></th>\n",
       "      <th></th>\n",
       "      <th></th>\n",
       "      <th></th>\n",
       "      <th></th>\n",
       "      <th></th>\n",
       "      <th></th>\n",
       "      <th></th>\n",
       "      <th></th>\n",
       "      <th></th>\n",
       "      <th></th>\n",
       "      <th></th>\n",
       "      <th></th>\n",
       "      <th></th>\n",
       "    </tr>\n",
       "  </thead>\n",
       "  <tbody>\n",
       "    <tr>\n",
       "      <th>1</th>\n",
       "      <td>60</td>\n",
       "      <td>RL</td>\n",
       "      <td>65.0</td>\n",
       "      <td>8450</td>\n",
       "      <td>Pave</td>\n",
       "      <td>NaN</td>\n",
       "      <td>Reg</td>\n",
       "      <td>Lvl</td>\n",
       "      <td>AllPub</td>\n",
       "      <td>Inside</td>\n",
       "      <td>...</td>\n",
       "      <td>0</td>\n",
       "      <td>NaN</td>\n",
       "      <td>NaN</td>\n",
       "      <td>NaN</td>\n",
       "      <td>0</td>\n",
       "      <td>2</td>\n",
       "      <td>2008</td>\n",
       "      <td>WD</td>\n",
       "      <td>Normal</td>\n",
       "      <td>208500</td>\n",
       "    </tr>\n",
       "    <tr>\n",
       "      <th>2</th>\n",
       "      <td>20</td>\n",
       "      <td>RL</td>\n",
       "      <td>80.0</td>\n",
       "      <td>9600</td>\n",
       "      <td>Pave</td>\n",
       "      <td>NaN</td>\n",
       "      <td>Reg</td>\n",
       "      <td>Lvl</td>\n",
       "      <td>AllPub</td>\n",
       "      <td>FR2</td>\n",
       "      <td>...</td>\n",
       "      <td>0</td>\n",
       "      <td>NaN</td>\n",
       "      <td>NaN</td>\n",
       "      <td>NaN</td>\n",
       "      <td>0</td>\n",
       "      <td>5</td>\n",
       "      <td>2007</td>\n",
       "      <td>WD</td>\n",
       "      <td>Normal</td>\n",
       "      <td>181500</td>\n",
       "    </tr>\n",
       "    <tr>\n",
       "      <th>3</th>\n",
       "      <td>60</td>\n",
       "      <td>RL</td>\n",
       "      <td>68.0</td>\n",
       "      <td>11250</td>\n",
       "      <td>Pave</td>\n",
       "      <td>NaN</td>\n",
       "      <td>IR1</td>\n",
       "      <td>Lvl</td>\n",
       "      <td>AllPub</td>\n",
       "      <td>Inside</td>\n",
       "      <td>...</td>\n",
       "      <td>0</td>\n",
       "      <td>NaN</td>\n",
       "      <td>NaN</td>\n",
       "      <td>NaN</td>\n",
       "      <td>0</td>\n",
       "      <td>9</td>\n",
       "      <td>2008</td>\n",
       "      <td>WD</td>\n",
       "      <td>Normal</td>\n",
       "      <td>223500</td>\n",
       "    </tr>\n",
       "    <tr>\n",
       "      <th>4</th>\n",
       "      <td>70</td>\n",
       "      <td>RL</td>\n",
       "      <td>60.0</td>\n",
       "      <td>9550</td>\n",
       "      <td>Pave</td>\n",
       "      <td>NaN</td>\n",
       "      <td>IR1</td>\n",
       "      <td>Lvl</td>\n",
       "      <td>AllPub</td>\n",
       "      <td>Corner</td>\n",
       "      <td>...</td>\n",
       "      <td>0</td>\n",
       "      <td>NaN</td>\n",
       "      <td>NaN</td>\n",
       "      <td>NaN</td>\n",
       "      <td>0</td>\n",
       "      <td>2</td>\n",
       "      <td>2006</td>\n",
       "      <td>WD</td>\n",
       "      <td>Abnorml</td>\n",
       "      <td>140000</td>\n",
       "    </tr>\n",
       "    <tr>\n",
       "      <th>5</th>\n",
       "      <td>60</td>\n",
       "      <td>RL</td>\n",
       "      <td>84.0</td>\n",
       "      <td>14260</td>\n",
       "      <td>Pave</td>\n",
       "      <td>NaN</td>\n",
       "      <td>IR1</td>\n",
       "      <td>Lvl</td>\n",
       "      <td>AllPub</td>\n",
       "      <td>FR2</td>\n",
       "      <td>...</td>\n",
       "      <td>0</td>\n",
       "      <td>NaN</td>\n",
       "      <td>NaN</td>\n",
       "      <td>NaN</td>\n",
       "      <td>0</td>\n",
       "      <td>12</td>\n",
       "      <td>2008</td>\n",
       "      <td>WD</td>\n",
       "      <td>Normal</td>\n",
       "      <td>250000</td>\n",
       "    </tr>\n",
       "  </tbody>\n",
       "</table>\n",
       "<p>5 rows × 80 columns</p>\n",
       "</div>"
      ],
      "text/plain": [
       "    MSSubClass MSZoning  LotFrontage  LotArea Street Alley LotShape  \\\n",
       "Id                                                                    \n",
       "1           60       RL         65.0     8450   Pave   NaN      Reg   \n",
       "2           20       RL         80.0     9600   Pave   NaN      Reg   \n",
       "3           60       RL         68.0    11250   Pave   NaN      IR1   \n",
       "4           70       RL         60.0     9550   Pave   NaN      IR1   \n",
       "5           60       RL         84.0    14260   Pave   NaN      IR1   \n",
       "\n",
       "   LandContour Utilities LotConfig  ... PoolArea PoolQC Fence MiscFeature  \\\n",
       "Id                                  ...                                     \n",
       "1          Lvl    AllPub    Inside  ...        0    NaN   NaN         NaN   \n",
       "2          Lvl    AllPub       FR2  ...        0    NaN   NaN         NaN   \n",
       "3          Lvl    AllPub    Inside  ...        0    NaN   NaN         NaN   \n",
       "4          Lvl    AllPub    Corner  ...        0    NaN   NaN         NaN   \n",
       "5          Lvl    AllPub       FR2  ...        0    NaN   NaN         NaN   \n",
       "\n",
       "   MiscVal MoSold  YrSold  SaleType  SaleCondition  SalePrice  \n",
       "Id                                                             \n",
       "1        0      2    2008        WD         Normal     208500  \n",
       "2        0      5    2007        WD         Normal     181500  \n",
       "3        0      9    2008        WD         Normal     223500  \n",
       "4        0      2    2006        WD        Abnorml     140000  \n",
       "5        0     12    2008        WD         Normal     250000  \n",
       "\n",
       "[5 rows x 80 columns]"
      ]
     },
     "execution_count": 4,
     "metadata": {},
     "output_type": "execute_result"
    }
   ],
   "source": [
    "data_train.head()"
   ]
  },
  {
   "cell_type": "markdown",
   "id": "47dc1c96-1a4f-4906-9a97-2fbbe9f798b9",
   "metadata": {},
   "source": [
    "### Train/Test Split"
   ]
  },
  {
   "cell_type": "code",
   "execution_count": 5,
   "id": "5cc462c5-7cdd-4beb-82f8-804a88a429a9",
   "metadata": {},
   "outputs": [],
   "source": [
    "from sklearn.linear_model import LinearRegression\n",
    "from sklearn.model_selection import train_test_split"
   ]
  },
  {
   "cell_type": "code",
   "execution_count": 6,
   "id": "bf6da9ea-8bf1-48d5-815e-c694ec649500",
   "metadata": {},
   "outputs": [],
   "source": [
    "\"\"\"\n",
    "Train/Test split\n",
    "\n",
    "X: all columns from train_data except SalePrice\n",
    "y: SalePrice\n",
    "\"\"\"\n",
    "X, y = data_train.loc[:, data_train.columns != \"SalePrice\"], data_train[\"SalePrice\"]\n",
    "X_train, X_test, y_train, y_test = train_test_split(X, y, test_size=0.3, random_state=0)\n",
    "for data in [X_train, X_test, y_train, y_test]:\n",
    "    data.reset_index(drop=True, inplace=True)"
   ]
  },
  {
   "cell_type": "code",
   "execution_count": 7,
   "id": "4b211f34-a8ae-4ae3-bf28-868af9123877",
   "metadata": {},
   "outputs": [
    {
     "data": {
      "text/plain": [
       "((1022, 79), (1022,), (438, 79), (438,))"
      ]
     },
     "execution_count": 7,
     "metadata": {},
     "output_type": "execute_result"
    }
   ],
   "source": [
    "X_train.shape, y_train.shape, X_test.shape, y_test.shape"
   ]
  },
  {
   "cell_type": "markdown",
   "id": "ac78abae-2aa3-4266-ad91-6f5054c81413",
   "metadata": {},
   "source": [
    "### Preprocessing"
   ]
  },
  {
   "cell_type": "markdown",
   "id": "fd1f9739-6986-4e2c-bc90-ed8136504c46",
   "metadata": {},
   "source": [
    "#### Continuous Column"
   ]
  },
  {
   "cell_type": "code",
   "execution_count": 8,
   "id": "a406d6df-92b8-484f-8ba2-e8ebcf07b9ab",
   "metadata": {},
   "outputs": [],
   "source": [
    "# get_continuous_columns from the dataframe\n",
    "def get_continuous_columns(df: pd.DataFrame) -> pd.Series:\n",
    "    return df.select_dtypes(include=\"number\").columns"
   ]
  },
  {
   "cell_type": "code",
   "execution_count": 9,
   "id": "714e0f44-92de-4b51-b450-bcdc01b0b74a",
   "metadata": {},
   "outputs": [],
   "source": [
    "# fill the missing data\n",
    "def fillna_continuous(df: pd.DataFrame) -> pd.DataFrame:\n",
    "    columns = get_continuous_columns(df)\n",
    "    [df[column].fillna(0, inplace=True) for column in columns]\n",
    "    return df"
   ]
  },
  {
   "cell_type": "markdown",
   "id": "bdccb3eb-3716-42f8-8ef5-e9df5e3a6114",
   "metadata": {},
   "source": [
    "#### Categorical Columns"
   ]
  },
  {
   "cell_type": "code",
   "execution_count": 10,
   "id": "85daded0-b94e-4ade-859f-03f1637bfdcf",
   "metadata": {},
   "outputs": [],
   "source": [
    "# get_continuous_columns from the dataframe\n",
    "def get_categorical_columns(df: pd.DataFrame) -> pd.Series:\n",
    "    return df.select_dtypes(include=\"object\").columns"
   ]
  },
  {
   "cell_type": "code",
   "execution_count": 11,
   "id": "7db01d92-5bdd-4bfe-af68-06571b5e24ed",
   "metadata": {},
   "outputs": [],
   "source": [
    "# fill the missing data\n",
    "def fillna_categorical(df: pd.DataFrame) -> pd.DataFrame:\n",
    "    columns = get_categorical_columns(df)\n",
    "    [df[column].fillna(\"Unknown\", inplace=True) for column in columns]\n",
    "    return df"
   ]
  },
  {
   "cell_type": "markdown",
   "id": "72ec2754-dd91-411c-bb12-f7ba5a463a01",
   "metadata": {},
   "source": [
    "#### Encode categorical columns"
   ]
  },
  {
   "cell_type": "code",
   "execution_count": 12,
   "id": "8f344cfb-06b7-45e9-b53c-e8818536d612",
   "metadata": {},
   "outputs": [],
   "source": [
    "from sklearn.preprocessing import OneHotEncoder\n",
    "\n",
    "\n",
    "# Create encoder\n",
    "def make_encoder(df: pd.DataFrame) -> OneHotEncoder:\n",
    "    path = \"/Users/ericwindsor/Documents/EPITA_ERIC/Data_Scicence_Production/dsp-zihang-wang/models/\"\n",
    "    categorical_columns = get_categorical_columns(df)\n",
    "    encoder = OneHotEncoder(handle_unknown=\"ignore\", dtype=int)\n",
    "    encoder.fit(df[categorical_columns])\n",
    "    encoder_name = \"encoder.OneHotEncoder\"\n",
    "    encoder_path = path + encoder_name\n",
    "    joblib.dump(encoder, encoder_path)\n",
    "    return encoder, encoder_path\n",
    "\n",
    "\n",
    "# Encode the categorial columns\n",
    "def encode_categorical(df: pd.DataFrame, encoder: [OneHotEncoder]) -> pd.DataFrame:\n",
    "    categorical_columns = get_categorical_columns(df)\n",
    "    encoded_columns = encoder.transform(df[categorical_columns])\n",
    "    encoded_df = pd.DataFrame(\n",
    "        encoded_columns.toarray(),\n",
    "        columns=encoder.get_feature_names_out(categorical_columns),\n",
    "    )\n",
    "    df = df.drop(categorical_columns, axis=1).join(encoded_df)\n",
    "    return df"
   ]
  },
  {
   "cell_type": "markdown",
   "id": "a56865be-d395-4bae-afbf-17bbf70f7a1f",
   "metadata": {},
   "source": [
    "#### Encapsulation"
   ]
  },
  {
   "cell_type": "code",
   "execution_count": 13,
   "id": "a6b89f19-338f-4f04-b0aa-f8411439368e",
   "metadata": {},
   "outputs": [],
   "source": [
    "# Encapusulate functions of all processes\n",
    "def process_data(df: pd.DataFrame) -> pd.DataFrame:\n",
    "    df = fillna_continuous(df)\n",
    "    df = fillna_categorical(df)"
   ]
  },
  {
   "cell_type": "markdown",
   "id": "903197a7-e4ce-4ddb-ac6b-2d3ec6ffde5a",
   "metadata": {},
   "source": [
    "### Model Training"
   ]
  },
  {
   "cell_type": "code",
   "execution_count": 14,
   "id": "d63be4c8-791b-4586-8196-2ca14dcc8fa3",
   "metadata": {},
   "outputs": [],
   "source": [
    "# Train data processing\n",
    "encoder, encoder_path = make_encoder(X_train)\n",
    "X_train = encode_categorical(X_train, encoder)\n",
    "process_data(X_train)\n",
    "# Test data processing\n",
    "X_test = encode_categorical(X_test, encoder)\n",
    "process_data(X_test)"
   ]
  },
  {
   "cell_type": "code",
   "execution_count": 15,
   "id": "26e571d0-03fd-425b-81ac-48a79193d683",
   "metadata": {},
   "outputs": [],
   "source": [
    "from sklearn.metrics import mean_squared_log_error\n",
    "\n",
    "\n",
    "def build_model(\n",
    "    X_train: pd.DataFrame, X_test: pd.DataFrame, y_train: np.ndarray, y_test: np.ndarray\n",
    ") -> dict[str, str]:\n",
    "    # Returns a dictionary with the model performances (for example {'rmse': 0.18})\n",
    "    model = LinearRegression()\n",
    "    model.fit(X_train, y_train)\n",
    "    path = \"/Users/ericwindsor/Documents/EPITA_ERIC/Data_Scicence_Production/dsp-zihang-wang/models/\"\n",
    "    model_name = \"lreg.model\"\n",
    "    model_path = path + model_name\n",
    "    joblib.dump(model, model_path)\n",
    "    y_pred = abs(model.predict(X_test))\n",
    "    rmsle = np.sqrt(mean_squared_log_error(y_test, y_pred))\n",
    "\n",
    "    return {\"rmsle\": round(rmsle, 2), \"model_path\": model_path}"
   ]
  },
  {
   "cell_type": "markdown",
   "id": "17f1fffc-bf75-43a0-929d-f08ec8b55b14",
   "metadata": {},
   "source": [
    "### Model evaluation"
   ]
  },
  {
   "cell_type": "code",
   "execution_count": 16,
   "id": "e2e96fb5-1842-4c43-9b5f-e7b1c27d4b9d",
   "metadata": {},
   "outputs": [
    {
     "data": {
      "text/plain": [
       "0.29"
      ]
     },
     "execution_count": 16,
     "metadata": {},
     "output_type": "execute_result"
    }
   ],
   "source": [
    "accuray, model_path = build_model(X_train, X_test, y_train, y_test).values()\n",
    "accuray"
   ]
  },
  {
   "cell_type": "markdown",
   "id": "ae2bfff7-6102-4411-b4f3-d17a7d1aa38f",
   "metadata": {},
   "source": [
    "## Model inference"
   ]
  },
  {
   "cell_type": "code",
   "execution_count": 17,
   "id": "3f5cde2a-ab3c-4105-870f-2da48047fdb4",
   "metadata": {},
   "outputs": [],
   "source": [
    "data_test_raw = pd.read_csv(\"data/housing_price_test.csv\", index_col=\"Id\")\n",
    "data_test = data_test_raw.copy()"
   ]
  },
  {
   "cell_type": "code",
   "execution_count": 18,
   "id": "be0ef21a-cedf-45f8-ae1e-46b316d69cde",
   "metadata": {},
   "outputs": [],
   "source": [
    "def make_predictions(\n",
    "    data_test: pd.DataFrame, encoder_path: str, model_path: str\n",
    ") -> np.ndarray:\n",
    "    # the model and all the data preparation objects (encoder, etc) should be loaded from the models folder\n",
    "    encoder_train = joblib.load(encoder_path)\n",
    "    data_test = encode_categorical(data_test, encoder_train)\n",
    "    process_data(data_test)\n",
    "    joblib_model = joblib.load(model_path)\n",
    "    tesr_pred = abs(joblib_model.predict(data_test))\n",
    "    return tesr_pred"
   ]
  },
  {
   "cell_type": "code",
   "execution_count": 19,
   "id": "1c4172c9-172c-4e5f-b72c-088880d666dd",
   "metadata": {},
   "outputs": [
    {
     "data": {
      "text/plain": [
       "array([106316.53150199,   6471.77076516,  43276.91487479, ...,\n",
       "        58066.13615507,  18766.96128885,    709.92067789])"
      ]
     },
     "execution_count": 19,
     "metadata": {},
     "output_type": "execute_result"
    }
   ],
   "source": [
    "make_predictions(data_test, encoder_path, model_path)"
   ]
  }
 ],
 "metadata": {
  "kernelspec": {
   "display_name": "ml",
   "language": "python",
   "name": "ml"
  },
  "language_info": {
   "codemirror_mode": {
    "name": "ipython",
    "version": 3
   },
   "file_extension": ".py",
   "mimetype": "text/x-python",
   "name": "python",
   "nbconvert_exporter": "python",
   "pygments_lexer": "ipython3",
   "version": "3.9.18"
  }
 },
 "nbformat": 4,
 "nbformat_minor": 5
}
