{
 "cells": [
  {
   "cell_type": "code",
   "execution_count": 1,
   "id": "4dcd7e33-de4a-409c-b430-9234ba95d6a6",
   "metadata": {
    "ExecuteTime": {
     "end_time": "2024-03-10T18:02:26.704173Z",
     "start_time": "2024-03-10T18:02:26.664597Z"
    }
   },
   "outputs": [
    {
     "name": "stdout",
     "output_type": "stream",
     "text": [
      "{'rmsle': 3.3}\n"
     ]
    }
   ],
   "source": [
    "import pandas as pd\n",
    "from house_prices.train import build_model\n",
    "training_data_df = pd.read_csv(\"Dataset/data/housing_price_train.csv\", index_col=\"Id\")\n",
    "model_performance_dict = build_model(training_data_df)\n",
    "print(model_performance_dict)"
   ]
  },
  {
   "cell_type": "code",
   "execution_count": 2,
   "id": "ed1bd51e-eb49-4217-9f13-c18d03688bb8",
   "metadata": {
    "ExecuteTime": {
     "end_time": "2024-03-10T17:03:35.046688Z",
     "start_time": "2024-03-10T17:03:34.581360Z"
    }
   },
   "outputs": [
    {
     "data": {
      "text/plain": [
       "array([139136., 162688., 158976., ..., 151424., 167040., 238208.])"
      ]
     },
     "execution_count": 2,
     "metadata": {},
     "output_type": "execute_result"
    }
   ],
   "source": [
    "import pandas as pd\n",
    "from house_prices.inference import make_predictions\n",
    "\n",
    "user_data_df = pd.read_csv(\"DataSet/data/housing_price_test.csv\", index_col=\"Id\")\n",
    "predictions = make_predictions(user_data_df)\n",
    "predictions"
   ]
  }
 ],
 "metadata": {
  "kernelspec": {
   "display_name": "ml",
   "language": "python",
   "name": "ml"
  },
  "language_info": {
   "codemirror_mode": {
    "name": "ipython",
    "version": 3
   },
   "file_extension": ".py",
   "mimetype": "text/x-python",
   "name": "python",
   "nbconvert_exporter": "python",
   "pygments_lexer": "ipython3",
   "version": "3.9.18"
  }
 },
 "nbformat": 4,
 "nbformat_minor": 5
}
