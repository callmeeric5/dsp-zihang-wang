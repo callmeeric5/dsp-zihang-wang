{
 "cells": [
  {
   "cell_type": "code",
   "execution_count": 1,
   "id": "dcfbb02a-5874-46a8-a974-684ef8b3b8d8",
   "metadata": {},
   "outputs": [],
   "source": [
    "import numpy as np\n",
    "np.random.seed(42)"
   ]
  },
  {
   "cell_type": "code",
   "execution_count": 2,
   "id": "9cbaa5cd-c423-4e1d-bdde-6d708e25f86c",
   "metadata": {},
   "outputs": [],
   "source": [
    "array = np.random.randint(0, 100, size=(10, 3))"
   ]
  },
  {
   "cell_type": "code",
   "execution_count": 3,
   "id": "ac48a8a8-789a-404e-bb16-cf49cecfc732",
   "metadata": {},
   "outputs": [
    {
     "name": "stdout",
     "output_type": "stream",
     "text": [
      "the size is (10, 3)\n",
      "the array is \n",
      "[[51 92 14]\n",
      " [71 60 20]\n",
      " [82 86 74]\n",
      " [74 87 99]\n",
      " [23  2 21]\n",
      " [52  1 87]\n",
      " [29 37  1]\n",
      " [63 59 20]\n",
      " [32 75 57]\n",
      " [21 88 48]]\n"
     ]
    }
   ],
   "source": [
    "print(f'the size is {array.shape}\\nthe array is \\n{array}')"
   ]
  },
  {
   "cell_type": "code",
   "execution_count": null,
   "id": "6301c3c0-a3e8-4201-a967-0405aa4e54ed",
   "metadata": {},
   "outputs": [],
   "source": []
  }
 ],
 "metadata": {
  "kernelspec": {
   "display_name": "Python 3 (ipykernel)",
   "language": "python",
   "name": "python3"
  },
  "language_info": {
   "codemirror_mode": {
    "name": "ipython",
    "version": 3
   },
   "file_extension": ".py",
   "mimetype": "text/x-python",
   "name": "python",
   "nbconvert_exporter": "python",
   "pygments_lexer": "ipython3",
   "version": "3.9.18"
  }
 },
 "nbformat": 4,
 "nbformat_minor": 5
}
